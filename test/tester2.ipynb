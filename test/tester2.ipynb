{
 "cells": [
  {
   "cell_type": "code",
   "execution_count": 9,
   "metadata": {},
   "outputs": [],
   "source": [
    "import numpy as np\n",
    "import matplotlib.pyplot as plt\n",
    "%matplotlib inline"
   ]
  },
  {
   "cell_type": "code",
   "execution_count": 116,
   "metadata": {},
   "outputs": [],
   "source": [
    "n = 10\n",
    "X = n * np.random.rand(n * 100)\n",
    "X = np.round(X)"
   ]
  },
  {
   "cell_type": "code",
   "execution_count": 117,
   "metadata": {},
   "outputs": [
    {
     "name": "stdout",
     "output_type": "stream",
     "text": [
      "[ 51. 100. 100.  96.  95.  89. 112.  98. 105. 102.  52.]\n"
     ]
    }
   ],
   "source": [
    "A = np.zeros(n + 1)\n",
    "N = np.zeros(n + 1)\n",
    "for i in range(n + 1):\n",
    "    A[i] = np.count_nonzero(X == i)\n",
    "    N[i] = i\n",
    "print(A)"
   ]
  },
  {
   "cell_type": "code",
   "execution_count": 118,
   "metadata": {},
   "outputs": [
    {
     "data": {
      "image/png": "[encoded data removed]",
      "text/plain": [
       "<Figure size 288x288 with 1 Axes>"
      ]
     },
     "metadata": {},
     "output_type": "display_data"
    }
   ],
   "source": [
    "plt.figure(figsize=(4, 4))\n",
    "plt.plot(N, A, marker='o', markeredgecolor='black', color='red', linestyle='None')\n",
    "plt.grid(True)\n",
    "plt.show()"
   ]
  },
  {
   "cell_type": "code",
   "execution_count": 29,
   "metadata": {},
   "outputs": [
    {
     "name": "stdout",
     "output_type": "stream",
     "text": [
      "(5, 2)\n",
      "(5, 3)\n"
     ]
    }
   ],
   "source": [
    "A = np.array([[1, 2]]*5)\n",
    "print(A.shape)\n",
    "B = np.array([[1, 2, 3]]*5)\n",
    "print(B.shape)"
   ]
  },
  {
   "cell_type": "code",
   "execution_count": 32,
   "metadata": {},
   "outputs": [
    {
     "name": "stdout",
     "output_type": "stream",
     "text": [
      "1\n",
      "2\n",
      "3\n",
      "4\n"
     ]
    }
   ],
   "source": [
    "for i in range(1, 5):\n",
    "    print(i)"
   ]
  },
  {
   "cell_type": "code",
   "execution_count": 53,
   "metadata": {},
   "outputs": [
    {
     "name": "stdout",
     "output_type": "stream",
     "text": [
      "8.0\n"
     ]
    }
   ],
   "source": [
    "A = np.array([[1, 2, 3, 4], [4, 5, 6, 7], [7, 8, 9, 0]], dtype=float)\n",
    "print(A[2][1])"
   ]
  },
  {
   "cell_type": "code",
   "execution_count": 56,
   "metadata": {},
   "outputs": [
    {
     "name": "stdout",
     "output_type": "stream",
     "text": [
      "[[ 0.79706679  2.16810116  2.92968963  4.2311717 ]\n",
      " [ 4.09303521  5.06366157  5.99936268  6.88452702]\n",
      " [ 7.05692238  7.87283992  9.18022242 -0.09404931]]\n"
     ]
    }
   ],
   "source": [
    "X = np.random.rand(3, 4) / 2- 0.25\n",
    "A = np.matrix(A)\n",
    "X = np.matrix(X)\n",
    "A += Xx\n",
    "print(A)"
   ]
  }
 ],
 "metadata": {
  "kernelspec": {
   "display_name": "Python 3",
   "language": "python",
   "name": "python3"
  },
  "language_info": {
   "codemirror_mode": {
    "name": "ipython",
    "version": 3
   },
   "file_extension": ".py",
   "mimetype": "text/x-python",
   "name": "python",
   "nbconvert_exporter": "python",
   "pygments_lexer": "ipython3",
   "version": "3.6.8"
  }
 },
 "nbformat": 4,
 "nbformat_minor": 2
}
