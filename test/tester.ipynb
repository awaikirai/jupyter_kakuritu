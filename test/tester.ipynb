{
 "cells": [
  {
   "cell_type": "code",
   "execution_count": 1,
   "metadata": {},
   "outputs": [],
   "source": [
    "import numpy as np\n",
    "import matplotlib.pyplot as plt\n",
    "%matplotlib inline"
   ]
  },
  {
   "cell_type": "code",
   "execution_count": 9,
   "metadata": {
    "scrolled": false
   },
   "outputs": [
    {
     "name": "stdout",
     "output_type": "stream",
     "text": [
      "[472.  22. 101. 580. 941. 342. 412. 198. 181. 851. 446. 327. 425. 576.\n",
      " 621. 453. 523.  38. 161. 884. 806. 592. 355. 414. 376. 513. 263. 189.\n",
      " 878. 643. 428. 489. 671. 329. 481.  95. 504.  71. 775. 838. 525. 507.\n",
      " 128.  12. 830. 855. 236.  13.  59. 453. 160. 482.  89.  63. 806. 345.\n",
      " 901. 315. 106. 886. 784. 670. 796.  80. 805. 256. 951. 830. 876. 898.\n",
      " 960. 794.  52. 936. 699.  57. 612. 388. 902. 888. 322. 864. 194. 484.\n",
      " 285. 359. 733.  47. 712. 170. 596. 289. 547. 278. 731. 276. 956. 990.\n",
      " 464.  39.]\n"
     ]
    }
   ],
   "source": [
    "X = 1000 * np.random.rand(100)\n",
    "Y = 1000 * np.random.rand(100)\n",
    "print(np.round(X))"
   ]
  },
  {
   "cell_type": "code",
   "execution_count": 3,
   "metadata": {},
   "outputs": [],
   "source": [
    "def line(w):\n",
    "    x = np.linspace(0, 1000, 100)\n",
    "    y = w[0] * x + w[1]\n",
    "    plt.plot(x, y, color='blue', linewidth=4)"
   ]
  },
  {
   "cell_type": "code",
   "execution_count": 10,
   "metadata": {},
   "outputs": [
    {
     "name": "stdout",
     "output_type": "stream",
     "text": [
      "1\n",
      "0\n"
     ]
    },
    {
     "data": {
      "image/png": "[encoded data removed]",
      "text/plain": [
       "<Figure size 288x288 with 1 Axes>"
      ]
     },
     "metadata": {},
     "output_type": "display_data"
    }
   ],
   "source": [
    "W1 = input()\n",
    "W2 = input()\n",
    "W = np.array([W1, W2], dtype=float)\n",
    "\n",
    "plt.figure(figsize=(4, 4))\n",
    "line(W)\n",
    "plt.plot(X, Y, marker='o', markeredgecolor='black', color='red', linestyle='None')\n",
    "plt.grid(True)\n",
    "plt.xlim(0, 1000)\n",
    "plt.show()"
   ]
  },
  {
   "cell_type": "code",
   "execution_count": 9,
   "metadata": {},
   "outputs": [
    {
     "name": "stdout",
     "output_type": "stream",
     "text": [
      "[ 0  1  2  3  4  5  6  7  8  9 10 11]\n",
      "[[ 0  1  2  3  4  5]\n",
      " [ 6  7  8  9 10 11]]\n"
     ]
    }
   ],
   "source": [
    "A = np.arange(12)\n",
    "print(A)\n",
    "RESHAPE = A.reshape([2, 6])\n",
    "print(RESHAPE)"
   ]
  }
 ],
 "metadata": {
  "kernelspec": {
   "display_name": "Python 3",
   "language": "python",
   "name": "python3"
  },
  "language_info": {
   "codemirror_mode": {
    "name": "ipython",
    "version": 3
   },
   "file_extension": ".py",
   "mimetype": "text/x-python",
   "name": "python",
   "nbconvert_exporter": "python",
   "pygments_lexer": "ipython3",
   "version": "3.6.8"
  }
 },
 "nbformat": 4,
 "nbformat_minor": 2
}
