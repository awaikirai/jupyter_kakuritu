{
 "cells": [
  {
   "cell_type": "code",
   "execution_count": 59,
   "metadata": {},
   "outputs": [],
   "source": [
    "import numpy as np\n",
    "import matplotlib.pyplot as plt\n",
    "%matplotlib inline"
   ]
  },
  {
   "cell_type": "code",
   "execution_count": 37,
   "metadata": {
    "scrolled": false
   },
   "outputs": [
    {
     "name": "stdout",
     "output_type": "stream",
     "text": [
      "[607. 732. 361.  90. 704. 607.  33. 270. 951. 776. 895. 123. 940. 390.\n",
      " 854. 701. 515.  47. 176.  10. 568. 246. 997. 499. 151. 256.  28. 822.\n",
      " 274. 916. 302. 494. 638. 520. 856.   1. 446. 831. 139. 144.  67. 713.\n",
      " 932. 198. 944. 260. 101. 781. 630. 694. 550. 960. 591. 525. 524. 216.\n",
      "  58.  28. 228. 889.  70. 278. 920. 251. 797. 499. 394.  37. 407. 124.\n",
      " 572. 712. 948. 421. 439. 385. 855. 307. 298. 457. 359. 198. 653. 738.\n",
      "  91. 360. 370.  53. 896. 363. 532. 660.  24. 694. 765. 153. 215.  47.\n",
      " 809. 621.]\n"
     ]
    }
   ],
   "source": [
    "X = 1000 * np.random.rand(100)\n",
    "Y = 1000 * np.random.rand(100)\n",
    "print(np.round(X))"
   ]
  },
  {
   "cell_type": "code",
   "execution_count": 86,
   "metadata": {},
   "outputs": [],
   "source": [
    "def line(w):\n",
    "    x = np.linspace(0, 1000, 100)\n",
    "    y = w[0] * x + w[1]\n",
    "    plt.plot(x, y, color='blue', linewidth=4)"
   ]
  },
  {
   "cell_type": "code",
   "execution_count": 87,
   "metadata": {},
   "outputs": [
    {
     "name": "stdout",
     "output_type": "stream",
     "text": [
      "0.5\n",
      "400\n"
     ]
    },
    {
     "data": {
      "image/png": "[encoded data removed]",
      "text/plain": [
       "<Figure size 288x288 with 1 Axes>"
      ]
     },
     "metadata": {},
     "output_type": "display_data"
    }
   ],
   "source": [
    "W1 = input()\n",
    "W2 = input()\n",
    "W = np.array([W1, W2], dtype=float)\n",
    "\n",
    "plt.figure(figsize=(4, 4))\n",
    "line(W)\n",
    "plt.plot(X, Y, marker='o', markeredgecolor='black', color='red', linestyle='None')\n",
    "plt.grid(True)\n",
    "plt.xlim(0, 1000)\n",
    "plt.show()"
   ]
  },
  {
   "cell_type": "code",
   "execution_count": null,
   "metadata": {},
   "outputs": [],
   "source": []
  }
 ],
 "metadata": {
  "kernelspec": {
   "display_name": "Python 3",
   "language": "python",
   "name": "python3"
  },
  "language_info": {
   "codemirror_mode": {
    "name": "ipython",
    "version": 3
   },
   "file_extension": ".py",
   "mimetype": "text/x-python",
   "name": "python",
   "nbconvert_exporter": "python",
   "pygments_lexer": "ipython3",
   "version": "3.6.8"
  }
 },
 "nbformat": 4,
 "nbformat_minor": 2
}
